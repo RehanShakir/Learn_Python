{
 "cells": [
  {
   "cell_type": "markdown",
   "metadata": {},
   "source": [
    "# Learn_Python"
   ]
  },
  {
   "cell_type": "markdown",
   "metadata": {},
   "source": [
    "### 1. Print"
   ]
  },
  {
   "cell_type": "code",
   "execution_count": 4,
   "metadata": {},
   "outputs": [
    {
     "name": "stdout",
     "output_type": "stream",
     "text": [
      "Rehan\n"
     ]
    }
   ],
   "source": [
    "print(\"My name is Rehan\") #Semicolon is not needed in Python"
   ]
  },
  {
   "cell_type": "code",
   "execution_count": 5,
   "metadata": {},
   "outputs": [
    {
     "name": "stdout",
     "output_type": "stream",
     "text": [
      "**********\n"
     ]
    }
   ],
   "source": [
    "print(\"*\" * 10) #This will print 10 asteriks"
   ]
  },
  {
   "cell_type": "markdown",
   "metadata": {},
   "source": [
    "### 2. Variables "
   ]
  },
  {
   "cell_type": "code",
   "execution_count": 9,
   "metadata": {},
   "outputs": [
    {
     "name": "stdout",
     "output_type": "stream",
     "text": [
      "10\n",
      "4.8\n",
      "Rehan\n",
      "True\n"
     ]
    }
   ],
   "source": [
    "price = 10 #\"INTEGER VARIABLE\" this will intailize \"price\" with 10 and automatically detects its data type as integer\n",
    "rating = 4.8 #\"FLOAT VARIABLE\"\n",
    "name = \"Rehan\" #\"String Variable\"\n",
    "is_published = True #\"Boolean Variable\" T must be capital and in False \"F\" must be capital\n",
    "print(price)\n",
    "print(rating)\n",
    "print(name)\n",
    "print(is_published)"
   ]
  },
  {
   "cell_type": "markdown",
   "metadata": {},
   "source": [
    "### 3. Getting Input From User"
   ]
  },
  {
   "cell_type": "code",
   "execution_count": 12,
   "metadata": {},
   "outputs": [
    {
     "name": "stdout",
     "output_type": "stream",
     "text": [
      "What is your name? Rehan\n",
      "What's your Favorite Color? Blue\n",
      "Rehan likes Blue\n"
     ]
    }
   ],
   "source": [
    "name = input(\"What is your name? \")#\"input()\" is used to take input from user and it will store this input in varable \"name\"\n",
    "color = input(\"What's your Favorite Color? \")\n",
    "print(name + \" likes \" + color)"
   ]
  },
  {
   "cell_type": "markdown",
   "metadata": {},
   "source": [
    "### 4. Type Conversion"
   ]
  },
  {
   "cell_type": "code",
   "execution_count": null,
   "metadata": {},
   "outputs": [],
   "source": []
  },
  {
   "cell_type": "code",
   "execution_count": 13,
   "metadata": {},
   "outputs": [
    {
     "name": "stdout",
     "output_type": "stream",
     "text": [
      "Enter Your Birth Year1998\n"
     ]
    },
    {
     "ename": "TypeError",
     "evalue": "unsupported operand type(s) for -: 'int' and 'str'",
     "output_type": "error",
     "traceback": [
      "\u001b[1;31m---------------------------------------------------------------------------\u001b[0m",
      "\u001b[1;31mTypeError\u001b[0m                                 Traceback (most recent call last)",
      "\u001b[1;32m<ipython-input-13-ecb061e548d8>\u001b[0m in \u001b[0;36m<module>\u001b[1;34m\u001b[0m\n\u001b[0;32m      1\u001b[0m \u001b[0mbirth_year\u001b[0m \u001b[1;33m=\u001b[0m \u001b[0minput\u001b[0m\u001b[1;33m(\u001b[0m\u001b[1;34m\"Enter Your Birth Year\"\u001b[0m\u001b[1;33m)\u001b[0m \u001b[1;31m#Whatever we write in terminal is treated as a string so we have to convert in into integer or float if we want to use that input as an Integer\u001b[0m\u001b[1;33m\u001b[0m\u001b[1;33m\u001b[0m\u001b[0m\n\u001b[1;32m----> 2\u001b[1;33m \u001b[0mage\u001b[0m \u001b[1;33m=\u001b[0m \u001b[1;36m2021\u001b[0m \u001b[1;33m-\u001b[0m \u001b[0mbirth_year\u001b[0m \u001b[1;31m#This will generate an error beacuse we cannot subtract an integer from string we have to convert it in order to perform calculations\u001b[0m\u001b[1;33m\u001b[0m\u001b[1;33m\u001b[0m\u001b[0m\n\u001b[0m",
      "\u001b[1;31mTypeError\u001b[0m: unsupported operand type(s) for -: 'int' and 'str'"
     ]
    }
   ],
   "source": [
    "#ERROR\n",
    "birth_year = input(\"Enter Your Birth Year\") #Whatever we write in terminal is treated as a STRING so we have to convert in into integer or float if we want to use that input as an Integer\n",
    "age = 2021 - birth_year #This will generate an ERROR beacuse we cannot subtract an integer from string we have to convert it in order to perform calculations\n"
   ]
  },
  {
   "cell_type": "markdown",
   "metadata": {},
   "source": [
    "#### We have int(), float(), bool(), etc. builtin function for Type Conversion"
   ]
  },
  {
   "cell_type": "markdown",
   "metadata": {},
   "source": [
    "#### Correcting the above error"
   ]
  },
  {
   "cell_type": "code",
   "execution_count": 17,
   "metadata": {},
   "outputs": [
    {
     "name": "stdout",
     "output_type": "stream",
     "text": [
      "Enter your Birth Year: 1998\n",
      "<class 'str'>\n",
      "<class 'int'>\n",
      "Your Age = 23\n"
     ]
    }
   ],
   "source": [
    "birth_year = input(\"Enter your Birth Year: \")\n",
    "print(type(birth_year)) #To check the data type of any variable we use \"type\" function\n",
    "age = 2021 - int(birth_year)\n",
    "print(type(age))\n",
    "print(\"Your Age = %d\"%age)"
   ]
  },
  {
   "cell_type": "markdown",
   "metadata": {},
   "source": [
    "### Example"
   ]
  },
  {
   "cell_type": "code",
   "execution_count": 19,
   "metadata": {},
   "outputs": [
    {
     "name": "stdout",
     "output_type": "stream",
     "text": [
      "Enter Your Weight in Pounds200.621\n",
      "Your Weight in kg is 90.98\n"
     ]
    }
   ],
   "source": [
    "weight_in_pounds = input(\"Enter Your Weight in Pounds\")\n",
    "weight_in_kg = float(weight_in_pounds)/2.205\n",
    "print(\"Your Weight in kg is %.2f\"%weight_in_kg)"
   ]
  },
  {
   "cell_type": "markdown",
   "metadata": {},
   "source": [
    "### 5. Strings"
   ]
  },
  {
   "cell_type": "code",
   "execution_count": 3,
   "metadata": {},
   "outputs": [
    {
     "name": "stdout",
     "output_type": "stream",
     "text": [
      "This is Ali's Car\n",
      "\"Course\"\n"
     ]
    }
   ],
   "source": [
    "course = \"This is Ali's Car\"\n",
    "name = '\"Course\"'\n",
    "print(course)\n",
    "print(name)"
   ]
  },
  {
   "cell_type": "markdown",
   "metadata": {},
   "source": [
    "#### To write strings in multiple lines we use three quotes at start and end of string"
   ]
  },
  {
   "cell_type": "code",
   "execution_count": 5,
   "metadata": {},
   "outputs": [
    {
     "name": "stdout",
     "output_type": "stream",
     "text": [
      "\n",
      "Hi!\n",
      "\n",
      "Thanks for your valuable time and consideration.\n",
      "\n",
      "Regards,\n",
      "Rehan\n",
      "\n"
     ]
    }
   ],
   "source": [
    "details = '''\n",
    "Hi!\n",
    "\n",
    "Thanks for your valuable time and consideration.\n",
    "\n",
    "Regards,\n",
    "Rehan\n",
    "'''\n",
    "print(details)"
   ]
  },
  {
   "cell_type": "markdown",
   "metadata": {},
   "source": [
    "#### Python strings stored in array and easily accessible through the index of array"
   ]
  },
  {
   "cell_type": "code",
   "execution_count": 23,
   "metadata": {},
   "outputs": [
    {
     "name": "stdout",
     "output_type": "stream",
     "text": [
      "I\n",
      "I\n",
      "L\n",
      "You\n",
      "our name is ALI\n",
      "You\n",
      "Your name is ALI\n",
      "ennife\n"
     ]
    }
   ],
   "source": [
    "name = \"Your name is ALI\"\n",
    "print(name[15])\n",
    "print(name[-1]) #-1 is the index of last character\n",
    "print(name[-2]) #-2 is the index of 2nd last character\n",
    "print(name[0:3]) #This will print the first 3 characters of string 0 1 2\n",
    "print(name[1:]) #This will exclude the 1st character and print rest of the string\n",
    "print(name[:3]) #This will print upto 3 characters starting from index 0\n",
    "another = name #For copying string to a new variable also we can use \"another = name[:]\"\n",
    "print(another)\n",
    "new = \"jennifer\"\n",
    "print(new[1:-1]) #This will exclude the first and last index of string and print rest of the characters"
   ]
  },
  {
   "cell_type": "markdown",
   "metadata": {},
   "source": [
    "### 6. Formatted Strings"
   ]
  },
  {
   "cell_type": "code",
   "execution_count": null,
   "metadata": {},
   "outputs": [],
   "source": []
  }
 ],
 "metadata": {
  "kernelspec": {
   "display_name": "Python 3",
   "language": "python",
   "name": "python3"
  },
  "language_info": {
   "codemirror_mode": {
    "name": "ipython",
    "version": 3
   },
   "file_extension": ".py",
   "mimetype": "text/x-python",
   "name": "python",
   "nbconvert_exporter": "python",
   "pygments_lexer": "ipython3",
   "version": "3.8.5"
  }
 },
 "nbformat": 4,
 "nbformat_minor": 4
}
