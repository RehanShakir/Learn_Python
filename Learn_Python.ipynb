{
 "cells": [
  {
   "cell_type": "markdown",
   "metadata": {},
   "source": [
    "# Learn_Python"
   ]
  },
  {
   "cell_type": "markdown",
   "metadata": {},
   "source": [
    "### 1. Print"
   ]
  },
  {
   "cell_type": "code",
   "execution_count": 4,
   "metadata": {},
   "outputs": [
    {
     "name": "stdout",
     "output_type": "stream",
     "text": [
      "Rehan\n"
     ]
    }
   ],
   "source": [
    "print(\"My name is Rehan\") #Semicolon is not needed in Python"
   ]
  },
  {
   "cell_type": "code",
   "execution_count": 5,
   "metadata": {},
   "outputs": [
    {
     "name": "stdout",
     "output_type": "stream",
     "text": [
      "**********\n"
     ]
    }
   ],
   "source": [
    "print(\"*\" * 10) #This will print 10 asteriks"
   ]
  },
  {
   "cell_type": "markdown",
   "metadata": {},
   "source": [
    "### 2. Variables "
   ]
  },
  {
   "cell_type": "code",
   "execution_count": 9,
   "metadata": {},
   "outputs": [
    {
     "name": "stdout",
     "output_type": "stream",
     "text": [
      "10\n",
      "4.8\n",
      "Rehan\n",
      "True\n"
     ]
    }
   ],
   "source": [
    "price = 10 #\"INTEGER VARIABLE\" this will intailize \"price\" with 10 and automatically detects its data type as integer\n",
    "rating = 4.8 #\"FLOAT VARIABLE\"\n",
    "name = \"Rehan\" #\"String Variable\"\n",
    "is_published = True #\"Boolean Variable\" T must be capital and in False \"F\" must be capital\n",
    "print(price)\n",
    "print(rating)\n",
    "print(name)\n",
    "print(is_published)"
   ]
  },
  {
   "cell_type": "markdown",
   "metadata": {},
   "source": [
    "### 3. Getting Input From User"
   ]
  },
  {
   "cell_type": "code",
   "execution_count": 12,
   "metadata": {},
   "outputs": [
    {
     "name": "stdout",
     "output_type": "stream",
     "text": [
      "What is your name? Rehan\n",
      "What's your Favorite Color? Blue\n",
      "Rehan likes Blue\n"
     ]
    }
   ],
   "source": [
    "name = input(\"What is your name? \")#\"input()\" is used to take input from user and it will store this input in varable \"name\"\n",
    "color = input(\"What's your Favorite Color? \")\n",
    "print(name + \" likes \" + color)"
   ]
  },
  {
   "cell_type": "markdown",
   "metadata": {},
   "source": [
    "### 4. Type Conversion"
   ]
  },
  {
   "cell_type": "markdown",
   "metadata": {},
   "source": [
    "#### (Error)"
   ]
  },
  {
   "cell_type": "code",
   "execution_count": 6,
   "metadata": {},
   "outputs": [
    {
     "name": "stdout",
     "output_type": "stream",
     "text": [
      "Enter Your Birth Year1998\n"
     ]
    },
    {
     "ename": "TypeError",
     "evalue": "unsupported operand type(s) for -: 'int' and 'str'",
     "output_type": "error",
     "traceback": [
      "\u001b[1;31m---------------------------------------------------------------------------\u001b[0m",
      "\u001b[1;31mTypeError\u001b[0m                                 Traceback (most recent call last)",
      "\u001b[1;32m<ipython-input-6-cd3e520c784f>\u001b[0m in \u001b[0;36m<module>\u001b[1;34m\u001b[0m\n\u001b[0;32m      1\u001b[0m \u001b[1;31m#ERROR\u001b[0m\u001b[1;33m\u001b[0m\u001b[1;33m\u001b[0m\u001b[1;33m\u001b[0m\u001b[0m\n\u001b[0;32m      2\u001b[0m \u001b[0mbirth_year\u001b[0m \u001b[1;33m=\u001b[0m \u001b[0minput\u001b[0m\u001b[1;33m(\u001b[0m\u001b[1;34m\"Enter Your Birth Year\"\u001b[0m\u001b[1;33m)\u001b[0m \u001b[1;31m#Whatever we write in terminal is treated as a STRING so we have to convert in into integer or float if we want to use that input as an Integer\u001b[0m\u001b[1;33m\u001b[0m\u001b[1;33m\u001b[0m\u001b[0m\n\u001b[1;32m----> 3\u001b[1;33m \u001b[0mage\u001b[0m \u001b[1;33m=\u001b[0m \u001b[1;36m2021\u001b[0m \u001b[1;33m-\u001b[0m \u001b[0mbirth_year\u001b[0m \u001b[1;31m#This will generate an ERROR beacuse we cannot subtract an integer from string we have to convert it in order to perform calculations\u001b[0m\u001b[1;33m\u001b[0m\u001b[1;33m\u001b[0m\u001b[0m\n\u001b[0m",
      "\u001b[1;31mTypeError\u001b[0m: unsupported operand type(s) for -: 'int' and 'str'"
     ]
    }
   ],
   "source": [
    "#ERROR\n",
    "birth_year = input(\"Enter Your Birth Year\") #Whatever we write in terminal is treated as a STRING so we have to convert in into integer or float if we want to use that input as an Integer\n",
    "age = 2021 - birth_year #This will generate an ERROR beacuse we cannot subtract an integer from string we have to convert it in order to perform calculations\n"
   ]
  },
  {
   "cell_type": "markdown",
   "metadata": {},
   "source": [
    "#### We have int(), float(), bool(), etc. builtin function for Type Conversion"
   ]
  },
  {
   "cell_type": "markdown",
   "metadata": {},
   "source": [
    "#### Correcting the above error"
   ]
  },
  {
   "cell_type": "code",
   "execution_count": 17,
   "metadata": {},
   "outputs": [
    {
     "name": "stdout",
     "output_type": "stream",
     "text": [
      "Enter your Birth Year: 1998\n",
      "<class 'str'>\n",
      "<class 'int'>\n",
      "Your Age = 23\n"
     ]
    }
   ],
   "source": [
    "birth_year = input(\"Enter your Birth Year: \")\n",
    "print(type(birth_year)) #To check the data type of any variable we use \"type\" function\n",
    "age = 2021 - int(birth_year)\n",
    "print(type(age))\n",
    "print(\"Your Age = %d\"%age)"
   ]
  },
  {
   "cell_type": "markdown",
   "metadata": {},
   "source": [
    "### Example"
   ]
  },
  {
   "cell_type": "code",
   "execution_count": 19,
   "metadata": {},
   "outputs": [
    {
     "name": "stdout",
     "output_type": "stream",
     "text": [
      "Enter Your Weight in Pounds200.621\n",
      "Your Weight in kg is 90.98\n"
     ]
    }
   ],
   "source": [
    "weight_in_pounds = input(\"Enter Your Weight in Pounds\")\n",
    "weight_in_kg = float(weight_in_pounds)/2.205\n",
    "print(\"Your Weight in kg is %.2f\"%weight_in_kg)"
   ]
  },
  {
   "cell_type": "markdown",
   "metadata": {},
   "source": [
    "### 5. Strings"
   ]
  },
  {
   "cell_type": "code",
   "execution_count": 3,
   "metadata": {},
   "outputs": [
    {
     "name": "stdout",
     "output_type": "stream",
     "text": [
      "This is Ali's Car\n",
      "\"Course\"\n"
     ]
    }
   ],
   "source": [
    "course = \"This is Ali's Car\"\n",
    "name = '\"Course\"'\n",
    "print(course)\n",
    "print(name)"
   ]
  },
  {
   "cell_type": "markdown",
   "metadata": {},
   "source": [
    "#### To write strings in multiple lines we use three quotes at start and end of string"
   ]
  },
  {
   "cell_type": "code",
   "execution_count": 5,
   "metadata": {},
   "outputs": [
    {
     "name": "stdout",
     "output_type": "stream",
     "text": [
      "\n",
      "Hi!\n",
      "\n",
      "Thanks for your valuable time and consideration.\n",
      "\n",
      "Regards,\n",
      "Rehan\n",
      "\n"
     ]
    }
   ],
   "source": [
    "details = '''\n",
    "Hi!\n",
    "\n",
    "Thanks for your valuable time and consideration.\n",
    "\n",
    "Regards,\n",
    "Rehan\n",
    "'''\n",
    "print(details)"
   ]
  },
  {
   "cell_type": "markdown",
   "metadata": {},
   "source": [
    "#### Python strings stored in array and easily accessible through the index of array"
   ]
  },
  {
   "cell_type": "code",
   "execution_count": 23,
   "metadata": {},
   "outputs": [
    {
     "name": "stdout",
     "output_type": "stream",
     "text": [
      "I\n",
      "I\n",
      "L\n",
      "You\n",
      "our name is ALI\n",
      "You\n",
      "Your name is ALI\n",
      "ennife\n"
     ]
    }
   ],
   "source": [
    "name = \"Your name is ALI\"\n",
    "print(name[15])\n",
    "print(name[-1]) #-1 is the index of last character\n",
    "print(name[-2]) #-2 is the index of 2nd last character\n",
    "print(name[0:3]) #This will print the first 3 characters of string 0 1 2\n",
    "print(name[1:]) #This will exclude the 1st character and print rest of the string\n",
    "print(name[:3]) #This will print upto 3 characters starting from index 0\n",
    "another = name #For copying string to a new variable also we can use \"another = name[:]\"\n",
    "print(another)\n",
    "new = \"jennifer\"\n",
    "print(new[1:-1]) #This will exclude the first and last index of string and print rest of the characters"
   ]
  },
  {
   "cell_type": "markdown",
   "metadata": {},
   "source": [
    "### 6. Formatted Strings"
   ]
  },
  {
   "cell_type": "markdown",
   "metadata": {},
   "source": [
    "#### To format a string use prefix 'f' and curly braces '{}' to make a formatted string"
   ]
  },
  {
   "cell_type": "code",
   "execution_count": 4,
   "metadata": {},
   "outputs": [
    {
     "name": "stdout",
     "output_type": "stream",
     "text": [
      "John [Simith] is a coder\n"
     ]
    }
   ],
   "source": [
    "first = 'John'\n",
    "last = 'Simith'\n",
    "msg = f'{first} [{last}] is a coder'\n",
    "print(msg)"
   ]
  },
  {
   "cell_type": "markdown",
   "metadata": {},
   "source": [
    "### 7. String Methods"
   ]
  },
  {
   "cell_type": "code",
   "execution_count": 16,
   "metadata": {},
   "outputs": [
    {
     "name": "stdout",
     "output_type": "stream",
     "text": [
      "20\n",
      "PYTHON FOR BEGINNERS\n",
      "python for beginners\n",
      "2\n",
      "Python for any kind of Beginners\n",
      "True\n"
     ]
    }
   ],
   "source": [
    "course = \"Python for Beginners\"\n",
    "print(len(course)) #\"len()\" is used to print the number of characters in a string\n",
    "print(course.upper()) #\"upper()\" is used to convert any string to uppercase\n",
    "print(course.lower()) #\"lower()\" is used to convert any string to lowercase\n",
    "print(course.find('t')) #\"find('ANY_CHARACTER')\" is used to find the INDEX of a specific character in string, find() method is case sensitive\n",
    "print(course.replace('for','for any kind of')) #replace('Old Character','New Charcter to Replace old Charcter')\n",
    "print('Python' in course) #To check a word is present in a string or not, it returns true/false"
   ]
  },
  {
   "cell_type": "markdown",
   "metadata": {},
   "source": [
    "### 8. Arithmetic Operators"
   ]
  },
  {
   "cell_type": "code",
   "execution_count": 22,
   "metadata": {},
   "outputs": [
    {
     "name": "stdout",
     "output_type": "stream",
     "text": [
      "3.3333333333333335\n",
      "3\n",
      "1\n",
      "9\n",
      "13\n"
     ]
    }
   ],
   "source": [
    "print(10 / 3) #returns a float answer\n",
    "print(10 // 3) #returns answer withot floating point\n",
    "print(10 % 3) #return remainder \n",
    "print(3 ** 2) #this is 3^2 which is equal to 9\n",
    "#Augmented Assignment Operator\n",
    "x = 10\n",
    "x += 3  #we can also do x -= 3 x *= 3\n",
    "print(x)"
   ]
  },
  {
   "cell_type": "markdown",
   "metadata": {},
   "source": [
    "### 9. Operator Precedence"
   ]
  },
  {
   "cell_type": "markdown",
   "metadata": {},
   "source": [
    "##### 1. Prenthesis (Always executed First)\n",
    "##### 2. Exponentiation 2 ** 3(2^3) power\n",
    "##### 3. Multiplication of Subtraction\n",
    "##### 4. Addition or Subtraction"
   ]
  },
  {
   "cell_type": "code",
   "execution_count": 24,
   "metadata": {},
   "outputs": [
    {
     "name": "stdout",
     "output_type": "stream",
     "text": [
      "22\n",
      "52\n"
     ]
    }
   ],
   "source": [
    "x = 10 + 3 * 2 ** 2\n",
    "print(x)\n",
    "y = (10 + 3) * 2 ** 2\n",
    "print(y)"
   ]
  },
  {
   "cell_type": "markdown",
   "metadata": {},
   "source": [
    "### 10. Math Functions"
   ]
  },
  {
   "cell_type": "code",
   "execution_count": 26,
   "metadata": {},
   "outputs": [
    {
     "name": "stdout",
     "output_type": "stream",
     "text": [
      "3\n",
      "2.9\n"
     ]
    }
   ],
   "source": [
    "x = 2.9\n",
    "print(round(x)) #\"round()\" function will roundoff the floatinng value\n",
    "x = -2.9 \n",
    "print(abs(x)) #\"abs()\" absolute always return a postive value"
   ]
  },
  {
   "cell_type": "code",
   "execution_count": 33,
   "metadata": {},
   "outputs": [],
   "source": [
    "import math #includes all the mathematics functions"
   ]
  },
  {
   "cell_type": "code",
   "execution_count": 42,
   "metadata": {},
   "outputs": [
    {
     "name": "stdout",
     "output_type": "stream",
     "text": [
      "ceil(2.9) = 3\n",
      "floor(2.9) = 2\n"
     ]
    }
   ],
   "source": [
    "z = 1.2\n",
    "print(\"ceil(2.9) = %d\"%math.ceil(2.9))\n",
    "print(\"floor(2.9) = %d\"%math.floor(2.9))"
   ]
  },
  {
   "cell_type": "markdown",
   "metadata": {},
   "source": [
    "###### Python 3 math module documentation https://docs.python.org/3/library/math.html"
   ]
  },
  {
   "cell_type": "markdown",
   "metadata": {},
   "source": [
    "### 11. If Statements"
   ]
  },
  {
   "cell_type": "code",
   "execution_count": 44,
   "metadata": {},
   "outputs": [
    {
     "name": "stdout",
     "output_type": "stream",
     "text": [
      "It's cold day\n",
      "Wear warm clothes\n",
      "Enjoy Your Day!\n"
     ]
    }
   ],
   "source": [
    "is_hot = False\n",
    "is_cold = True\n",
    "\n",
    "if is_hot:\n",
    "    print(\"It's a hot day\")\n",
    "    print(\"Drink Plentay of Water\")\n",
    "elif is_cold: #\"else if(condition)\" in python\n",
    "    print(\"It's cold day\")\n",
    "    print(\"Wear warm clothes\")\n",
    "else:\n",
    "    print(\"It's a Lovely Day\")\n",
    "print(\"Enjoy Your Day!\")"
   ]
  },
  {
   "cell_type": "markdown",
   "metadata": {},
   "source": [
    "#### Example"
   ]
  },
  {
   "cell_type": "code",
   "execution_count": 46,
   "metadata": {},
   "outputs": [
    {
     "name": "stdout",
     "output_type": "stream",
     "text": [
      "Down Payment = $100000.0\n"
     ]
    }
   ],
   "source": [
    "price = 1000000\n",
    "has_good_credit = True\n",
    "\n",
    "if has_good_credit:\n",
    "    downPayment = 0.1 * price\n",
    "else:\n",
    "    downPayment = 0.2 * price\n",
    "print(f\"Down Payment = ${downPayment}\")    \n",
    "    "
   ]
  },
  {
   "cell_type": "markdown",
   "metadata": {},
   "source": [
    "### 12. Logical Operators"
   ]
  },
  {
   "cell_type": "markdown",
   "metadata": {},
   "source": [
    "#### And Operator (Both Conditions must be True): "
   ]
  },
  {
   "cell_type": "code",
   "execution_count": 5,
   "metadata": {},
   "outputs": [
    {
     "name": "stdout",
     "output_type": "stream",
     "text": [
      "Not Elligible for Loan\n"
     ]
    }
   ],
   "source": [
    "high_income = 100000\n",
    "good_credit = 50000\n",
    "\n",
    "if high_income >= 100000 and good_credit >= 50000:\n",
    "    print(\"Elligible for Loan\")\n",
    "else:\n",
    "    print(\"Not Elligible for Loan\")\n"
   ]
  },
  {
   "cell_type": "markdown",
   "metadata": {},
   "source": [
    "#### Or Operator (At least One Condition must be True)"
   ]
  },
  {
   "cell_type": "code",
   "execution_count": 7,
   "metadata": {},
   "outputs": [
    {
     "name": "stdout",
     "output_type": "stream",
     "text": [
      "Elligible\n"
     ]
    }
   ],
   "source": [
    "high_income = True\n",
    "good_credit = False\n",
    "\n",
    "if high_income or good_credit:\n",
    "    print(\"Elligible\")\n",
    "else:\n",
    "    print(\"Not Elligible\")"
   ]
  },
  {
   "cell_type": "markdown",
   "metadata": {},
   "source": [
    "#### NOT Operator (Inverse the Boolean value)"
   ]
  },
  {
   "cell_type": "code",
   "execution_count": 8,
   "metadata": {},
   "outputs": [
    {
     "name": "stdout",
     "output_type": "stream",
     "text": [
      "Elligible\n"
     ]
    }
   ],
   "source": [
    "high_income = True\n",
    "criminal_record = False\n",
    "\n",
    "if high_income and not criminal_record:\n",
    "    print(\"Elligible\")\n",
    "else:\n",
    "    print(\"Elligible\")"
   ]
  },
  {
   "cell_type": "markdown",
   "metadata": {},
   "source": [
    "### 13. Comparison Operators"
   ]
  },
  {
   "cell_type": "code",
   "execution_count": 1,
   "metadata": {},
   "outputs": [
    {
     "name": "stdout",
     "output_type": "stream",
     "text": [
      "RehanShakir Your Name Looks Good\n"
     ]
    }
   ],
   "source": [
    "name = \"RehanShakir\"\n",
    "\n",
    "if len(name) <= 3:\n",
    "    print(\"Name must be greater than 3 Characters\")\n",
    "elif len(name) >= 20:\n",
    "    print(\"Name must be less than 10 Characters\")\n",
    "else:\n",
    "    print(f'{name} Your Name Looks Good')"
   ]
  },
  {
   "cell_type": "markdown",
   "metadata": {},
   "source": [
    "### 14. Exercise: Weight Converter Program"
   ]
  },
  {
   "cell_type": "code",
   "execution_count": 7,
   "metadata": {},
   "outputs": [
    {
     "name": "stdout",
     "output_type": "stream",
     "text": [
      "Enter Your Weight: 72\n",
      "L(bs) or K(g): k\n",
      "You are 160.0 pounds\n"
     ]
    }
   ],
   "source": [
    "weight = int(input(\"Enter Your Weight: \"))\n",
    "lbs_or_kg = input(\"L(bs) or K(g): \")\n",
    "\n",
    "if lbs_or_kg.upper() == 'L':  #Here if we enter lowercase letter it will be converted to uppercase using uper method\n",
    "    converted = weight * 0.45\n",
    "    print(f'You are {converted} kilos')\n",
    "elif lbs_or_kg.upper() == 'K':\n",
    "    converted = weight / 0.45\n",
    "    print(f'You are {converted} pounds')\n",
    "else:\n",
    "    print(\"Enter L or l for weight in Kilograms and K or k for weight in pounds\")"
   ]
  },
  {
   "cell_type": "markdown",
   "metadata": {},
   "source": [
    "### 15. While Loops"
   ]
  },
  {
   "cell_type": "code",
   "execution_count": 9,
   "metadata": {},
   "outputs": [
    {
     "name": "stdout",
     "output_type": "stream",
     "text": [
      "*\n",
      "**\n",
      "***\n",
      "****\n",
      "*****\n",
      "Done\n"
     ]
    }
   ],
   "source": [
    "i = 1\n",
    "\n",
    "while i<=5:\n",
    "    print(\"*\" * i)\n",
    "    i = i + 1\n",
    "print(\"Done\")"
   ]
  },
  {
   "cell_type": "markdown",
   "metadata": {},
   "source": [
    "### 16. Exercise: Guessing Game"
   ]
  },
  {
   "cell_type": "code",
   "execution_count": 17,
   "metadata": {},
   "outputs": [
    {
     "name": "stdout",
     "output_type": "stream",
     "text": [
      "Enter your Guess:5\n",
      "Wrong Guess\n",
      "Enter your Guess:9\n",
      "You Won!\n"
     ]
    }
   ],
   "source": [
    "win = 9\n",
    "guess_count = 1\n",
    "while guess_count <= 3:\n",
    "    guess = int(input(\"Enter your Guess:\"))\n",
    "    if guess == int(win):\n",
    "        print(\"You Won!\")\n",
    "        break\n",
    "    else:\n",
    "        print(\"Wrong Guess\")\n",
    "    guess_count = guess_count + 1\n",
    "else:          #In python, we can also use \"else\" with while loop\n",
    "    print(\"You Lose!\") #This will execute only if while loop complete its iteration acc to condition"
   ]
  },
  {
   "cell_type": "markdown",
   "metadata": {},
   "source": [
    "### 17. Exercise: Car Game"
   ]
  },
  {
   "cell_type": "markdown",
   "metadata": {},
   "source": [
    "This is not an actual car game with GUI"
   ]
  },
  {
   "cell_type": "code",
   "execution_count": 32,
   "metadata": {},
   "outputs": [
    {
     "name": "stdout",
     "output_type": "stream",
     "text": [
      ">help\n",
      "write 'start' - to start the car\n",
      "write 'stop' - to stop the car\n",
      "write 'quit' - to quit the game\n",
      ">start\n",
      "Car Started!\n",
      ">start\n",
      "Car Already Started\n",
      ">stop\n",
      "Car Stopped!\n",
      ">asad\n",
      "You Entered Wrong Input\n",
      ">stop\n",
      "Car Already Stopped\n",
      ">quit\n"
     ]
    }
   ],
   "source": [
    "msg = input(\">\")\n",
    "flag = int(0)\n",
    "if msg == \"help\":\n",
    "    print(\"\"\"write 'start' - to start the car\n",
    "write 'stop' - to stop the car\n",
    "write 'quit' - to quit the game\"\"\")\n",
    "    \n",
    "    while True:\n",
    "        msg = input(\">\")\n",
    "        \n",
    "        if msg == \"start\":\n",
    "            if flag == 1:\n",
    "                print(\"Car Already Started\")\n",
    "            else:    \n",
    "                print(\"Car Started!\")    \n",
    "                flag = 1\n",
    "        elif msg == \"stop\":\n",
    "            if flag == 0:\n",
    "                print(\"Car Already Stopped\")\n",
    "            else:    \n",
    "                print(\"Car Stopped!\")\n",
    "                flag = 0\n",
    "        elif msg == \"quit\":\n",
    "            break\n",
    "        else:\n",
    "            print(\"You Entered Wrong Input\")"
   ]
  },
  {
   "cell_type": "markdown",
   "metadata": {},
   "source": [
    "### 18. For Loops"
   ]
  },
  {
   "cell_type": "markdown",
   "metadata": {},
   "source": [
    "#### For loop iteration using String"
   ]
  },
  {
   "cell_type": "code",
   "execution_count": 1,
   "metadata": {},
   "outputs": [
    {
     "name": "stdout",
     "output_type": "stream",
     "text": [
      "p\n",
      "y\n",
      "t\n",
      "h\n",
      "o\n",
      "n\n"
     ]
    }
   ],
   "source": [
    "for item in 'python':\n",
    "    print(item)"
   ]
  },
  {
   "cell_type": "markdown",
   "metadata": {},
   "source": [
    "#### For Loop Iteration using List"
   ]
  },
  {
   "cell_type": "code",
   "execution_count": 2,
   "metadata": {},
   "outputs": [
    {
     "name": "stdout",
     "output_type": "stream",
     "text": [
      "Rehan\n",
      "Ali\n",
      "Hamza\n"
     ]
    }
   ],
   "source": [
    "for item in ['Rehan','Ali','Hamza']:\n",
    "    print(item)"
   ]
  },
  {
   "cell_type": "markdown",
   "metadata": {},
   "source": [
    "#### For iteration of for loop in range of numbers"
   ]
  },
  {
   "cell_type": "code",
   "execution_count": 3,
   "metadata": {},
   "outputs": [
    {
     "name": "stdout",
     "output_type": "stream",
     "text": [
      "0\n",
      "1\n",
      "2\n",
      "3\n",
      "4\n",
      "5\n",
      "6\n",
      "7\n",
      "8\n",
      "9\n"
     ]
    }
   ],
   "source": [
    "for item in range(10): #range() function will set the range from 0-9 in this case raneg(10)\n",
    "    print(item)"
   ]
  },
  {
   "cell_type": "markdown",
   "metadata": {},
   "source": [
    "#### For range from 5-10 "
   ]
  },
  {
   "cell_type": "code",
   "execution_count": 4,
   "metadata": {},
   "outputs": [
    {
     "name": "stdout",
     "output_type": "stream",
     "text": [
      "5\n",
      "6\n",
      "7\n",
      "8\n",
      "9\n"
     ]
    }
   ],
   "source": [
    "for item in range(5,10): #range(start, end)\n",
    "    print(item)"
   ]
  },
  {
   "cell_type": "markdown",
   "metadata": {},
   "source": [
    "#### For range with jumps"
   ]
  },
  {
   "cell_type": "code",
   "execution_count": 5,
   "metadata": {},
   "outputs": [
    {
     "name": "stdout",
     "output_type": "stream",
     "text": [
      "5\n",
      "7\n",
      "9\n"
     ]
    }
   ],
   "source": [
    "for item in range(5,10,2): #range(Start, End, Jump)\n",
    "    print(item)"
   ]
  },
  {
   "cell_type": "markdown",
   "metadata": {},
   "source": [
    "### Exercise: For loop "
   ]
  },
  {
   "cell_type": "code",
   "execution_count": 12,
   "metadata": {},
   "outputs": [
    {
     "name": "stdout",
     "output_type": "stream",
     "text": [
      "Total: 60\n"
     ]
    }
   ],
   "source": [
    "prices = [10, 20, 30] #List contains prices\n",
    "SUM = 0\n",
    "for item in prices:\n",
    "    SUM = SUM + item \n",
    "print(f'Total: {SUM}')"
   ]
  },
  {
   "cell_type": "markdown",
   "metadata": {},
   "source": [
    "### 19. Nested Loops"
   ]
  },
  {
   "cell_type": "code",
   "execution_count": 13,
   "metadata": {},
   "outputs": [
    {
     "name": "stdout",
     "output_type": "stream",
     "text": [
      "(0,0)\n",
      "(0,1)\n",
      "(0,2)\n",
      "(1,0)\n",
      "(1,1)\n",
      "(1,2)\n",
      "(2,0)\n",
      "(2,1)\n",
      "(2,2)\n",
      "(3,0)\n",
      "(3,1)\n",
      "(3,2)\n"
     ]
    }
   ],
   "source": [
    "for x in range(4):\n",
    "    for y in range(3):\n",
    "        print(f'({x},{y})')"
   ]
  },
  {
   "cell_type": "markdown",
   "metadata": {},
   "source": [
    "### Exercise: Nested Loops"
   ]
  },
  {
   "cell_type": "code",
   "execution_count": 16,
   "metadata": {},
   "outputs": [
    {
     "name": "stdout",
     "output_type": "stream",
     "text": [
      "*****\n",
      "**\n",
      "*****\n",
      "**\n",
      "**\n"
     ]
    }
   ],
   "source": [
    "numbers = [5, 2, 5, 2, 2]\n",
    "\n",
    "for item in numbers:\n",
    "    print(\"*\" * item)"
   ]
  },
  {
   "cell_type": "markdown",
   "metadata": {},
   "source": [
    "### 20. Lists"
   ]
  },
  {
   "cell_type": "code",
   "execution_count": 23,
   "metadata": {},
   "outputs": [
    {
     "name": "stdout",
     "output_type": "stream",
     "text": [
      "['Rehan', 'Nauman', 'Zeshan', 'Ali', 'Sajid']\n",
      "Rehan\n",
      "Sajid\n",
      "['Zeshan', 'Ali', 'Sajid']\n",
      "['Zeshan', 'Ali']\n",
      "['Rehan Shakir', 'Nauman', 'Zeshan', 'Ali', 'Sajid']\n"
     ]
    }
   ],
   "source": [
    "names = ['Rehan', 'Nauman', 'Zeshan', 'Ali', 'Sajid'] #list of names\n",
    "print(names)\n",
    "print(names[0]) #to print a specific name\n",
    "print(names[-1]) #print last name of the list\n",
    "print(names[2:]) #print all the list starting from index 2\n",
    "print(names[2:4]) #print the list starting from INDEX:2 upto INDEX:3 (NOTE: INDEX 4 NOT INCLUDED)\n",
    "names[0] = 'Rehan Shakir' #to update any value of list\n",
    "print(names)"
   ]
  },
  {
   "cell_type": "markdown",
   "metadata": {},
   "source": [
    "### Exercise: List"
   ]
  },
  {
   "cell_type": "markdown",
   "metadata": {},
   "source": [
    "Find Largest Number in the List"
   ]
  },
  {
   "cell_type": "code",
   "execution_count": 25,
   "metadata": {},
   "outputs": [
    {
     "name": "stdout",
     "output_type": "stream",
     "text": [
      "Largest number in List is 10\n"
     ]
    }
   ],
   "source": [
    "lst = [2,5,6,1,10,4,3]\n",
    "max = 0\n",
    "for i in lst:\n",
    "    if max < i:\n",
    "        max = i\n",
    "print(f'Largest number in List is {max}')\n",
    "    "
   ]
  },
  {
   "cell_type": "markdown",
   "metadata": {},
   "source": [
    "### 21. 2D Lists"
   ]
  },
  {
   "cell_type": "code",
   "execution_count": 4,
   "metadata": {},
   "outputs": [
    {
     "name": "stdout",
     "output_type": "stream",
     "text": [
      "1\n",
      "2\n",
      "3\n",
      "4\n",
      "5\n",
      "6\n",
      "7\n",
      "8\n",
      "9\n"
     ]
    }
   ],
   "source": [
    "matrix = [\n",
    "    [1, 2, 3],\n",
    "    [4, 5, 6],\n",
    "    [7, 8, 9]\n",
    "]\n",
    "for row in matrix:\n",
    "    for item in row:\n",
    "        print(item)"
   ]
  },
  {
   "cell_type": "markdown",
   "metadata": {},
   "source": [
    "### 22. List Methods"
   ]
  },
  {
   "cell_type": "code",
   "execution_count": 30,
   "metadata": {},
   "outputs": [
    {
     "name": "stdout",
     "output_type": "stream",
     "text": [
      "Original List: [1, 2, 3, 3, 5]\n",
      "After Appending with 6: [1, 2, 3, 3, 5, 6]\n",
      "After Inserting value 15 at index 1: [1, 15, 2, 3, 3, 5, 6]\n",
      "After removing value 1: [15, 2, 3, 3, 5, 6]\n",
      "After pop(): [15, 2, 3, 3, 5]\n",
      "Returns the index of value \"3\" in the list which is  2\n",
      "Check 3 is present in list or not: True\n",
      "Check 13 is present in list or not: False\n",
      "Counting how many times 3 occurs in the list: 2\n",
      "After reversing the list: [5, 3, 3, 2, 15]\n",
      "After sorting the list: [2, 3, 3, 5, 15]\n",
      "After copying numbers in new list numbers2: [2, 3, 3, 5, 15]\n",
      "After removing all the values from the list []\n"
     ]
    }
   ],
   "source": [
    "numbers = [1, 2, 3, 3, 5]\n",
    "print(f'Original List: {numbers}')\n",
    "\n",
    "#Append('number') is used to add a new number to the end of list\n",
    "numbers.append(6)\n",
    "print(f'After Appending with 6: {numbers}')\n",
    "\n",
    "#insert('index','value') to add a value to specific position of list\n",
    "numbers.insert(1,15)\n",
    "print(f'After Inserting value 15 at index 1: {numbers}')\n",
    "\n",
    "#remove('value') to remove any number from the list\n",
    "numbers.remove(1)\n",
    "print(f'After removing value 1: {numbers}')\n",
    "\n",
    "#pop() to remove the last value from the list\n",
    "numbers.pop()\n",
    "print(f'After pop(): {numbers}')\n",
    "\n",
    "#index() to check the first occurrence of any value in the list\n",
    "print(f'Returns the index of value \"3\" in the list which is  {numbers.index(3)}')\n",
    "\n",
    "#in, returns a boolean value (true/false)\n",
    "print(f'Check 3 is present in list or not: {3 in numbers}')\n",
    "print(f'Check 13 is present in list or not: {13 in numbers}')\n",
    "\n",
    "#count('value'), to count the number of any repeated value in list\n",
    "print(f'Counting how many times 3 occurs in the list: {numbers.count(3)}')\n",
    "\n",
    "#reverse(), to reverse the list\n",
    "numbers.reverse()\n",
    "print(f'After reversing the list: {numbers}')\n",
    "\n",
    "#sort(), to sort the list in asscending order\n",
    "numbers.sort()\n",
    "print(f'After sorting the list: {numbers}')\n",
    "\n",
    "#copy(), to copy a list\n",
    "numbers2 = numbers.copy()\n",
    "print(f'After copying numbers in new list numbers2: {numbers2}')\n",
    "\n",
    "#clear(), to delete all the values from the list\n",
    "numbers.clear()\n",
    "print(f'After removing all the values from the list {numbers}')\n",
    "\n"
   ]
  },
  {
   "cell_type": "markdown",
   "metadata": {},
   "source": [
    "### Exercise: Removing the Duplicates in a List"
   ]
  },
  {
   "cell_type": "code",
   "execution_count": 29,
   "metadata": {},
   "outputs": [
    {
     "name": "stdout",
     "output_type": "stream",
     "text": [
      "After removing duplicates in a List: [2, 3, 4, 5, 6, 8, 12]\n"
     ]
    }
   ],
   "source": [
    "numbers = {3,4,5,3,2,3,6,8,12}\n",
    "unique = []\n",
    "for number in numbers:\n",
    "    if number not in unique:\n",
    "        unique.append(number)\n",
    "print(f'After removing duplicates in a List: {unique}')\n",
    "    "
   ]
  },
  {
   "cell_type": "markdown",
   "metadata": {},
   "source": [
    "### 23. Tuples"
   ]
  },
  {
   "cell_type": "code",
   "execution_count": 32,
   "metadata": {},
   "outputs": [
    {
     "name": "stdout",
     "output_type": "stream",
     "text": [
      "2\n"
     ]
    }
   ],
   "source": [
    "#Similar to the list, but we don't use square brackets '[]' in tuples\n",
    "tup = (1,2,3) #We cannot use different methods on tuples as list methods \n",
    "print(tup[1])"
   ]
  },
  {
   "cell_type": "markdown",
   "metadata": {},
   "source": [
    "### 24. Unpacking "
   ]
  },
  {
   "cell_type": "code",
   "execution_count": 33,
   "metadata": {},
   "outputs": [
    {
     "name": "stdout",
     "output_type": "stream",
     "text": [
      "x = 1\n",
      "y = 2\n",
      "z = 3\n"
     ]
    }
   ],
   "source": [
    "coordinates = (1, 2, 3) #Tuple\n",
    "x, y, z = coordinates #This will assign the value of coordinate[0] to x, coordinate[1] to y, coordinate[2] to z \n",
    "print(f'x = {x}')\n",
    "print(f'y = {y}')\n",
    "print(f'z = {z}')\n",
    "#We can also use unpacking with list"
   ]
  },
  {
   "cell_type": "markdown",
   "metadata": {},
   "source": [
    "### 25. Dictionaries"
   ]
  },
  {
   "cell_type": "markdown",
   "metadata": {},
   "source": [
    "In Python, dictionaries can store a bunch of key value pairs"
   ]
  },
  {
   "cell_type": "code",
   "execution_count": 34,
   "metadata": {},
   "outputs": [
    {
     "name": "stdout",
     "output_type": "stream",
     "text": [
      "Rehan Shakir\n",
      "21\n",
      "True\n"
     ]
    }
   ],
   "source": [
    "customer = {\n",
    "    \"name\": \"Rehan Shakir\",\n",
    "    \"age\": 21,\n",
    "    \"is_verified\": True\n",
    "}\n",
    "#To access the values of Dictionary\n",
    "print(customer[\"name\"])\n",
    "print(customer[\"age\"])\n",
    "print(customer[\"is_verified\"])"
   ]
  },
  {
   "cell_type": "markdown",
   "metadata": {},
   "source": [
    "#### Example: Dictionaries"
   ]
  },
  {
   "cell_type": "code",
   "execution_count": 3,
   "metadata": {},
   "outputs": [
    {
     "name": "stdout",
     "output_type": "stream",
     "text": [
      "Enter Phone Number:1234\n",
      "One Two Three Four \n"
     ]
    }
   ],
   "source": [
    "phone = input(\"Enter Phone Number:\")\n",
    "digitsMapping = {\n",
    "    \"1\" : \"One\",\n",
    "    \"2\" : \"Two\",\n",
    "    \"3\" : \"Three\",\n",
    "    \"4\" : \"Four\"\n",
    "}\n",
    "output = \"\"\n",
    "for ch in phone:\n",
    "   output += digitsMapping.get(ch,\"!\") + \" \"\n",
    "print(output)\n"
   ]
  },
  {
   "cell_type": "markdown",
   "metadata": {},
   "source": [
    "### 26. Functions"
   ]
  },
  {
   "cell_type": "code",
   "execution_count": 4,
   "metadata": {},
   "outputs": [
    {
     "name": "stdout",
     "output_type": "stream",
     "text": [
      "Hi, Welocome to Python\n"
     ]
    }
   ],
   "source": [
    "def greetUser():\n",
    "    print(\"Hi, Welocome to Python\")\n",
    "    \n",
    "greetUser() #Calling function\n"
   ]
  },
  {
   "cell_type": "markdown",
   "metadata": {},
   "source": [
    "### 27. Function Parameters"
   ]
  },
  {
   "cell_type": "code",
   "execution_count": 5,
   "metadata": {},
   "outputs": [
    {
     "name": "stdout",
     "output_type": "stream",
     "text": [
      "Name: Rehan Shakir Age: 21\n"
     ]
    }
   ],
   "source": [
    "def userInfo(name,age):\n",
    "    print(f'Name: {name} Age: {age}')\n",
    "    \n",
    "userInfo(\"Rehan Shakir\",21) #position matters for arguements"
   ]
  },
  {
   "cell_type": "markdown",
   "metadata": {},
   "source": [
    "### 28. Keyword Arguement"
   ]
  },
  {
   "cell_type": "code",
   "execution_count": 7,
   "metadata": {},
   "outputs": [
    {
     "name": "stdout",
     "output_type": "stream",
     "text": [
      "Age : 21 Phone Number : 923361466814 Birth Year : 1998\n"
     ]
    }
   ],
   "source": [
    "#Use Keyword Arguements for numerical values in functions\n",
    "\n",
    "def userInfo(age, phNo, birthYear):\n",
    "    print(f'Age : {age} Phone Number : {phNo} Birth Year : {birthYear}')\n",
    "    \n",
    "userInfo(age=21, phNo=923361466814, birthYear=1998) #Keyword Arguments"
   ]
  },
  {
   "cell_type": "markdown",
   "metadata": {},
   "source": [
    "### 29. Return Statement"
   ]
  },
  {
   "cell_type": "code",
   "execution_count": 13,
   "metadata": {},
   "outputs": [
    {
     "name": "stdout",
     "output_type": "stream",
     "text": [
      "Square = 16\n"
     ]
    }
   ],
   "source": [
    "def square(num):\n",
    "    return num**2 #\"**\" represent power\n",
    "\n",
    "result = square(4)\n",
    "print(f'Square = {result}')"
   ]
  },
  {
   "cell_type": "markdown",
   "metadata": {},
   "source": [
    "### 30. Exception Handling"
   ]
  },
  {
   "cell_type": "code",
   "execution_count": 15,
   "metadata": {},
   "outputs": [
    {
     "name": "stdout",
     "output_type": "stream",
     "text": [
      "Enter Age: asd\n",
      "Invalid Vlaue\n"
     ]
    }
   ],
   "source": [
    "#try, except is used when we want to print a proper error message instead of python's default error message\n",
    "try:\n",
    "    age = int(input(\"Enter Age: \"))\n",
    "    print(age)\n",
    "except ValueError: #Works only with ValueErros\n",
    "    print(\"Invalid Vlaue\")"
   ]
  },
  {
   "cell_type": "markdown",
   "metadata": {},
   "source": [
    "### 31. Classes"
   ]
  },
  {
   "cell_type": "code",
   "execution_count": 18,
   "metadata": {},
   "outputs": [
    {
     "name": "stdout",
     "output_type": "stream",
     "text": [
      "draw\n",
      "move\n",
      "20\n"
     ]
    }
   ],
   "source": [
    "class Point:\n",
    "    def move(self):  #Here self is reference to the current object\n",
    "        print(\"move\")\n",
    "    \n",
    "    def draw(self):\n",
    "        print(\"draw\")\n",
    "        \n",
    "point1 = Point()  #Object of class \"Point\"\n",
    "\n",
    "point1.draw()\n",
    "point1.move()\n",
    "\n",
    "#We can also add new elements to a class\n",
    "point1.x = 20\n",
    "point1.y = 10\n",
    "print(point1.x)"
   ]
  },
  {
   "cell_type": "markdown",
   "metadata": {},
   "source": [
    "### 32. Constructors"
   ]
  },
  {
   "cell_type": "code",
   "execution_count": 19,
   "metadata": {},
   "outputs": [
    {
     "name": "stdout",
     "output_type": "stream",
     "text": [
      "10\n"
     ]
    }
   ],
   "source": [
    "class Point():\n",
    "    def __init__(self, x, y):\n",
    "        self.x = x\n",
    "        self.y = y\n",
    "        \n",
    "        \n",
    "    def draw(self):\n",
    "        print(\"Draw\")\n",
    "    \n",
    "    def point(self):\n",
    "        print(\"point\")\n",
    "        \n",
    "point1 = Point(10,20)\n",
    "\n",
    "print(point1.x)\n",
    "\n",
    "\n",
    "\n"
   ]
  },
  {
   "cell_type": "markdown",
   "metadata": {},
   "source": [
    "### Exercise:"
   ]
  },
  {
   "cell_type": "code",
   "execution_count": 23,
   "metadata": {},
   "outputs": [
    {
     "name": "stdout",
     "output_type": "stream",
     "text": [
      "Rehan Shakir\n",
      "Hi, I am Rehan Shakir\n"
     ]
    }
   ],
   "source": [
    "class Person:\n",
    "    \n",
    "    def __init__(self, name):\n",
    "        self.name = name\n",
    "    \n",
    "    def talk(self):\n",
    "        print(f'Hi, I am {self.name}') #Here, self.name returns the attribute of current personal object\n",
    "\n",
    "p = Person(\"Rehan Shakir\")\n",
    "\n",
    "print(p.name)\n",
    "p.talk()"
   ]
  },
  {
   "cell_type": "markdown",
   "metadata": {},
   "source": [
    "### 33. Inheritance"
   ]
  },
  {
   "cell_type": "code",
   "execution_count": 26,
   "metadata": {},
   "outputs": [
    {
     "name": "stdout",
     "output_type": "stream",
     "text": [
      "walk\n",
      "Bark\n"
     ]
    },
    {
     "data": {
      "text/plain": [
       "<bound method Mammal.walk of <__main__.Cat object at 0x00000271F70742E0>>"
      ]
     },
     "execution_count": 26,
     "metadata": {},
     "output_type": "execute_result"
    }
   ],
   "source": [
    "class Mammal:\n",
    "    def walk(self):\n",
    "        print(\"walk\")\n",
    "\n",
    "\n",
    "class Dog(Mammal): #class Dog(\"Main class name that you want to inherit\")\n",
    "    def bark(self):\n",
    "        print(\"Bark\")\n",
    "\n",
    "class Cat(Mammal):\n",
    "    pass         #\"pass\" simply Pass the line\n",
    "\n",
    "#now Dog and Cat class have all the elements, attributes and functions of its parent class that is Mammal\n",
    "\n",
    "dog = Dog()\n",
    "dog.walk()\n",
    "dog.bark()\n"
   ]
  },
  {
   "cell_type": "markdown",
   "metadata": {},
   "source": []
  }
 ],
 "metadata": {
  "kernelspec": {
   "display_name": "Python 3",
   "language": "python",
   "name": "python3"
  },
  "language_info": {
   "codemirror_mode": {
    "name": "ipython",
    "version": 3
   },
   "file_extension": ".py",
   "mimetype": "text/x-python",
   "name": "python",
   "nbconvert_exporter": "python",
   "pygments_lexer": "ipython3",
   "version": "3.8.5"
  }
 },
 "nbformat": 4,
 "nbformat_minor": 4
}
